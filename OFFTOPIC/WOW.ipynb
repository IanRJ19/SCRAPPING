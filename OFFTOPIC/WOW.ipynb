{
 "cells": [
  {
   "cell_type": "code",
   "execution_count": 2,
   "metadata": {},
   "outputs": [
    {
     "name": "stdout",
     "output_type": "stream",
     "text": [
      "1\n",
      "Se encontraron 2 filas en la tabla de la página 1\n",
      "2\n",
      "Se encontraron 2 filas en la tabla de la página 2\n"
     ]
    },
    {
     "ename": "WebDriverException",
     "evalue": "Message: target frame detached\n  (failed to check if window was closed: disconnected: Unable to receive message from renderer)\n  (Session info: chrome=115.0.5790.110)\nStacktrace:\n#0 0x5616d23204e3 <unknown>\n#1 0x5616d204fb00 <unknown>\n#2 0x5616d2038f42 <unknown>\n#3 0x5616d20379bf <unknown>\n#4 0x5616d2038162 <unknown>\n#5 0x5616d20460d5 <unknown>\n#6 0x5616d2047222 <unknown>\n#7 0x5616d2059e01 <unknown>\n#8 0x5616d20c3470 <unknown>\n#9 0x5616d20aade3 <unknown>\n#10 0x5616d20802dd <unknown>\n#11 0x5616d208134e <unknown>\n#12 0x5616d22e03e4 <unknown>\n#13 0x5616d22e43d7 <unknown>\n#14 0x5616d22eeb20 <unknown>\n#15 0x5616d22e5023 <unknown>\n#16 0x5616d22b31aa <unknown>\n#17 0x5616d23096b8 <unknown>\n#18 0x5616d2309847 <unknown>\n#19 0x5616d2319243 <unknown>\n#20 0x7fcc05094b43 <unknown>\n",
     "output_type": "error",
     "traceback": [
      "\u001b[0;31m---------------------------------------------------------------------------\u001b[0m",
      "\u001b[0;31mWebDriverException\u001b[0m                        Traceback (most recent call last)",
      "Cell \u001b[0;32mIn[2], line 29\u001b[0m\n\u001b[1;32m     27\u001b[0m \u001b[39mfor\u001b[39;00m row \u001b[39min\u001b[39;00m table_rows:\n\u001b[1;32m     28\u001b[0m     row_data \u001b[39m=\u001b[39m []\n\u001b[0;32m---> 29\u001b[0m     cells \u001b[39m=\u001b[39m row\u001b[39m.\u001b[39;49mfind_elements(By\u001b[39m.\u001b[39;49mTAG_NAME, \u001b[39m'\u001b[39;49m\u001b[39mtd\u001b[39;49m\u001b[39m'\u001b[39;49m)\n\u001b[1;32m     30\u001b[0m     \u001b[39mfor\u001b[39;00m cell \u001b[39min\u001b[39;00m cells:\n\u001b[1;32m     31\u001b[0m         row_data\u001b[39m.\u001b[39mappend(cell\u001b[39m.\u001b[39mtext)\n",
      "File \u001b[0;32m~/.local/lib/python3.10/site-packages/selenium/webdriver/remote/webelement.py:439\u001b[0m, in \u001b[0;36mWebElement.find_elements\u001b[0;34m(self, by, value)\u001b[0m\n\u001b[1;32m    436\u001b[0m     by \u001b[39m=\u001b[39m By\u001b[39m.\u001b[39mCSS_SELECTOR\n\u001b[1;32m    437\u001b[0m     value \u001b[39m=\u001b[39m \u001b[39mf\u001b[39m\u001b[39m'\u001b[39m\u001b[39m[name=\u001b[39m\u001b[39m\"\u001b[39m\u001b[39m{\u001b[39;00mvalue\u001b[39m}\u001b[39;00m\u001b[39m\"\u001b[39m\u001b[39m]\u001b[39m\u001b[39m'\u001b[39m\n\u001b[0;32m--> 439\u001b[0m \u001b[39mreturn\u001b[39;00m \u001b[39mself\u001b[39;49m\u001b[39m.\u001b[39;49m_execute(Command\u001b[39m.\u001b[39;49mFIND_CHILD_ELEMENTS, {\u001b[39m\"\u001b[39;49m\u001b[39musing\u001b[39;49m\u001b[39m\"\u001b[39;49m: by, \u001b[39m\"\u001b[39;49m\u001b[39mvalue\u001b[39;49m\u001b[39m\"\u001b[39;49m: value})[\u001b[39m\"\u001b[39m\u001b[39mvalue\u001b[39m\u001b[39m\"\u001b[39m]\n",
      "File \u001b[0;32m~/.local/lib/python3.10/site-packages/selenium/webdriver/remote/webelement.py:395\u001b[0m, in \u001b[0;36mWebElement._execute\u001b[0;34m(self, command, params)\u001b[0m\n\u001b[1;32m    393\u001b[0m     params \u001b[39m=\u001b[39m {}\n\u001b[1;32m    394\u001b[0m params[\u001b[39m\"\u001b[39m\u001b[39mid\u001b[39m\u001b[39m\"\u001b[39m] \u001b[39m=\u001b[39m \u001b[39mself\u001b[39m\u001b[39m.\u001b[39m_id\n\u001b[0;32m--> 395\u001b[0m \u001b[39mreturn\u001b[39;00m \u001b[39mself\u001b[39;49m\u001b[39m.\u001b[39;49m_parent\u001b[39m.\u001b[39;49mexecute(command, params)\n",
      "File \u001b[0;32m~/.local/lib/python3.10/site-packages/selenium/webdriver/remote/webdriver.py:346\u001b[0m, in \u001b[0;36mWebDriver.execute\u001b[0;34m(self, driver_command, params)\u001b[0m\n\u001b[1;32m    344\u001b[0m response \u001b[39m=\u001b[39m \u001b[39mself\u001b[39m\u001b[39m.\u001b[39mcommand_executor\u001b[39m.\u001b[39mexecute(driver_command, params)\n\u001b[1;32m    345\u001b[0m \u001b[39mif\u001b[39;00m response:\n\u001b[0;32m--> 346\u001b[0m     \u001b[39mself\u001b[39;49m\u001b[39m.\u001b[39;49merror_handler\u001b[39m.\u001b[39;49mcheck_response(response)\n\u001b[1;32m    347\u001b[0m     response[\u001b[39m\"\u001b[39m\u001b[39mvalue\u001b[39m\u001b[39m\"\u001b[39m] \u001b[39m=\u001b[39m \u001b[39mself\u001b[39m\u001b[39m.\u001b[39m_unwrap_value(response\u001b[39m.\u001b[39mget(\u001b[39m\"\u001b[39m\u001b[39mvalue\u001b[39m\u001b[39m\"\u001b[39m, \u001b[39mNone\u001b[39;00m))\n\u001b[1;32m    348\u001b[0m     \u001b[39mreturn\u001b[39;00m response\n",
      "File \u001b[0;32m~/.local/lib/python3.10/site-packages/selenium/webdriver/remote/errorhandler.py:245\u001b[0m, in \u001b[0;36mErrorHandler.check_response\u001b[0;34m(self, response)\u001b[0m\n\u001b[1;32m    243\u001b[0m         alert_text \u001b[39m=\u001b[39m value[\u001b[39m\"\u001b[39m\u001b[39malert\u001b[39m\u001b[39m\"\u001b[39m]\u001b[39m.\u001b[39mget(\u001b[39m\"\u001b[39m\u001b[39mtext\u001b[39m\u001b[39m\"\u001b[39m)\n\u001b[1;32m    244\u001b[0m     \u001b[39mraise\u001b[39;00m exception_class(message, screen, stacktrace, alert_text)  \u001b[39m# type: ignore[call-arg]  # mypy is not smart enough here\u001b[39;00m\n\u001b[0;32m--> 245\u001b[0m \u001b[39mraise\u001b[39;00m exception_class(message, screen, stacktrace)\n",
      "\u001b[0;31mWebDriverException\u001b[0m: Message: target frame detached\n  (failed to check if window was closed: disconnected: Unable to receive message from renderer)\n  (Session info: chrome=115.0.5790.110)\nStacktrace:\n#0 0x5616d23204e3 <unknown>\n#1 0x5616d204fb00 <unknown>\n#2 0x5616d2038f42 <unknown>\n#3 0x5616d20379bf <unknown>\n#4 0x5616d2038162 <unknown>\n#5 0x5616d20460d5 <unknown>\n#6 0x5616d2047222 <unknown>\n#7 0x5616d2059e01 <unknown>\n#8 0x5616d20c3470 <unknown>\n#9 0x5616d20aade3 <unknown>\n#10 0x5616d20802dd <unknown>\n#11 0x5616d208134e <unknown>\n#12 0x5616d22e03e4 <unknown>\n#13 0x5616d22e43d7 <unknown>\n#14 0x5616d22eeb20 <unknown>\n#15 0x5616d22e5023 <unknown>\n#16 0x5616d22b31aa <unknown>\n#17 0x5616d23096b8 <unknown>\n#18 0x5616d2309847 <unknown>\n#19 0x5616d2319243 <unknown>\n#20 0x7fcc05094b43 <unknown>\n"
     ]
    }
   ],
   "source": [
    "import pandas as pd\n",
    "import numpy as np\n",
    "\n",
    "datas=[]\n",
    "\n",
    "for i in range(1, 4):\n",
    "\n",
    "    from selenium import webdriver\n",
    "    from selenium.webdriver.common.by import By\n",
    "    from selenium.webdriver.support.ui import WebDriverWait\n",
    "    from selenium.webdriver.support import expected_conditions as EC\n",
    "\n",
    "\n",
    "    chrome_options = webdriver.ChromeOptions()\n",
    "    chrome_options.add_argument('--headless')\n",
    "    driver = webdriver.Chrome(options=chrome_options)\n",
    "\n",
    "\n",
    "    url = f'https://check-pvp.fr/ranking/eu/all-realms/all-factions/all-classes/all-specs/rateatm3v3/desc/{i}'\n",
    "    driver.get(url)\n",
    "    print(i)\n",
    "    table = WebDriverWait(driver, 60).until(EC.presence_of_element_located((By.XPATH, '//table')))\n",
    "    table_rows = table.find_elements(By.TAG_NAME, 'tr')\n",
    "    print(f\"Se encontraron {len(table_rows)} filas en la tabla de la página {i}\")\n",
    "    data = []\n",
    "\n",
    "    for row in table_rows:\n",
    "        row_data = []\n",
    "        cells = row.find_elements(By.TAG_NAME, 'td')\n",
    "        for cell in cells:\n",
    "            row_data.append(cell.text)\n",
    "        data.append(row_data) \n",
    "\n",
    "    df = pd.DataFrame(data)\n",
    "\n",
    "    import numpy as np\n",
    "    e=df\n",
    "    e=e.dropna()\n",
    "    e = e.replace('', np.nan)\n",
    "    # Elimina las columnas con valores en vacío (NaN)\n",
    "    e = e.dropna(axis=1, how='any')\n",
    "    datas.append(e)\n",
    "\n",
    "driver.quit()\n",
    "\n",
    "\n",
    "df = pd.concat(datas)\n",
    "e=df\n",
    "e=e.dropna()\n",
    "e = e.replace('', np.nan)\n",
    "e = e.dropna(axis=1, how='any')\n",
    "b=pd.DataFrame()\n",
    "b['RANKING']=e[0]\n",
    "b['NOMBRE']=e[1]\n",
    "b['2c2']=e[2]\n",
    "b['3c3']=e[9]\n",
    "b['RBG']=e[16]\n",
    "b['2c2EXP']=e[23]\n",
    "b['3c3EXP']=e[24]\n",
    "b['RBGEXP']=e[25]\n",
    "b['ARENAPOINT']=e[26]\n",
    "b['RBGPOINT']=e[27]\n",
    "b['ILVL']=e[28]\n",
    "b['PUNTOSDELOGRO']=e[29]\n",
    "b['VISTAS']=e[30]\n",
    "\n",
    "b=b.set_index('RANKING')\n",
    "b"
   ]
  }
 ],
 "metadata": {
  "kernelspec": {
   "display_name": "Python 3",
   "language": "python",
   "name": "python3"
  },
  "language_info": {
   "codemirror_mode": {
    "name": "ipython",
    "version": 3
   },
   "file_extension": ".py",
   "mimetype": "text/x-python",
   "name": "python",
   "nbconvert_exporter": "python",
   "pygments_lexer": "ipython3",
   "version": "3.10.6"
  },
  "orig_nbformat": 4,
  "vscode": {
   "interpreter": {
    "hash": "03a3280552aab75ac9f719f9062935c06f8a5fdb0276c6adccc57933fa81fcc9"
   }
  }
 },
 "nbformat": 4,
 "nbformat_minor": 2
}
