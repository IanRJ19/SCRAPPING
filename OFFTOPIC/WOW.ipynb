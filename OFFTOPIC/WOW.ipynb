{
 "cells": [
  {
   "cell_type": "code",
   "execution_count": 5,
   "metadata": {},
   "outputs": [
    {
     "name": "stdout",
     "output_type": "stream",
     "text": [
      "1\n",
      "Se encontraron 553 filas en la tabla de la página 1\n",
      "2\n",
      "Se encontraron 530 filas en la tabla de la página 2\n",
      "3\n",
      "Se encontraron 502 filas en la tabla de la página 3\n"
     ]
    }
   ],
   "source": [
    "import pandas as pd\n",
    "import numpy as np\n",
    "import time\n",
    "datas=[]\n",
    "\n",
    "for i in range(1, 4):\n",
    "\n",
    "    from selenium import webdriver\n",
    "    from selenium.webdriver.common.by import By\n",
    "    from selenium.webdriver.support.ui import WebDriverWait\n",
    "    from selenium.webdriver.support import expected_conditions as EC\n",
    "\n",
    "\n",
    "    chrome_options = webdriver.ChromeOptions()\n",
    "    chrome_options.add_argument('--headless')\n",
    "    driver = webdriver.Chrome(options=chrome_options)\n",
    "\n",
    "\n",
    "    url = f'https://check-pvp.fr/ranking/eu/all-realms/all-factions/all-classes/all-specs/rateatm3v3/desc/{i}'\n",
    "    driver.get(url)\n",
    "    print(i)\n",
    "    time.sleep(10)\n",
    "    table = WebDriverWait(driver, 15).until(EC.presence_of_element_located((By.XPATH, '/html/body/app-root/div/div[3]/app-ranking/div/div[2]/table')))\n",
    "    table_rows = table.find_elements(By.TAG_NAME, 'tr')\n",
    "    print(f\"Se encontraron {len(table_rows)} filas en la tabla de la página {i}\")\n",
    "    data = []\n",
    "\n",
    "    for row in table_rows:\n",
    "        row_data = []\n",
    "        cells = row.find_elements(By.TAG_NAME, 'td')\n",
    "        for cell in cells:\n",
    "            row_data.append(cell.text)\n",
    "        data.append(row_data) \n",
    "\n",
    "    df = pd.DataFrame(data)\n",
    "\n",
    "    import numpy as np\n",
    "    e=df\n",
    "    e=e.dropna()\n",
    "    e = e.replace('', np.nan)\n",
    "    # Elimina las columnas con valores en vacío (NaN)\n",
    "    e = e.dropna(axis=1, how='any')\n",
    "    datas.append(e)\n",
    "\n",
    "driver.quit()\n",
    "\n",
    "\n",
    "df = pd.concat(datas)\n",
    "e=df\n",
    "e=e.dropna()\n",
    "e = e.replace('', np.nan)\n",
    "e = e.dropna(axis=1, how='any')\n",
    "b=pd.DataFrame()\n",
    "b['RANKING']=e[0]\n",
    "b['NOMBRE']=e[1]\n",
    "b['2c2']=e[2]\n",
    "b['3c3']=e[9]\n",
    "b['RBG']=e[16]\n",
    "b['2c2EXP']=e[23]\n",
    "b['3c3EXP']=e[24]\n",
    "b['RBGEXP']=e[25]\n",
    "b['ARENAPOINT']=e[26]\n",
    "b['RBGPOINT']=e[27]\n",
    "b['ILVL']=e[28]\n",
    "b['PUNTOSDELOGRO']=e[29]\n",
    "b['VISTAS']=e[30]\n",
    "\n",
    "b=b.set_index('RANKING')\n",
    "b"
   ]
  }
 ],
 "metadata": {
  "kernelspec": {
   "display_name": "Python 3",
   "language": "python",
   "name": "python3"
  },
  "language_info": {
   "codemirror_mode": {
    "name": "ipython",
    "version": 3
   },
   "file_extension": ".py",
   "mimetype": "text/x-python",
   "name": "python",
   "nbconvert_exporter": "python",
   "pygments_lexer": "ipython3",
   "version": "3.10.6"
  },
  "orig_nbformat": 4,
  "vscode": {
   "interpreter": {
    "hash": "03a3280552aab75ac9f719f9062935c06f8a5fdb0276c6adccc57933fa81fcc9"
   }
  }
 },
 "nbformat": 4,
 "nbformat_minor": 2
}
