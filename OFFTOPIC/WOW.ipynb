{
 "cells": [
  {
   "cell_type": "code",
   "execution_count": 46,
   "metadata": {},
   "outputs": [],
   "source": [
    "import pandas as pd\n",
    "import numpy as np\n",
    "import time\n",
    "from selenium import webdriver\n",
    "from selenium.webdriver.common.by import By\n",
    "from selenium.webdriver.support.ui import WebDriverWait\n",
    "from selenium.webdriver.support import expected_conditions as EC\n",
    "\n",
    "def create_webdriver():\n",
    "    # Set the options for ChromeDriver\n",
    "    chrome_options = webdriver.ChromeOptions()\n",
    "    chrome_options.add_argument('--headless')\n",
    "    return webdriver.Chrome(options=chrome_options)\n",
    "\n",
    "def scrape_data_from_table(driver, page_number):\n",
    "    # Construct the URL using the page number\n",
    "    url = f'https://check-pvp.fr/ranking/eu/all-realms/all-factions/all-classes/all-specs/rateatm3v3/desc/{page_number}'\n",
    "    \n",
    "    # Request the page\n",
    "    driver.get(url)\n",
    "    time.sleep(10)  # wait for page load\n",
    "    \n",
    "    # Find the table on the page\n",
    "    table = WebDriverWait(driver, 15).until(EC.presence_of_element_located((By.XPATH, '/html/body/app-root/div/div[3]/app-ranking/div/div[2]/table')))\n",
    "    table_rows = table.find_elements(By.TAG_NAME, 'tr')\n",
    "    print(f\"Found {len(table_rows)} rows on the table from page {page_number}\")\n",
    "\n",
    "    # Iterate over the table and extract row data\n",
    "    table_data = []\n",
    "    for row in table_rows:\n",
    "        row_data = [cell.text for cell in row.find_elements(By.TAG_NAME, 'td')]\n",
    "        table_data.append(row_data) \n",
    "\n",
    "    # Convert data to pandas DataFrame\n",
    "    df = pd.DataFrame(table_data).replace('', np.nan).dropna(axis=1, how='all').dropna(how='all', inplace=True)\n",
    "    print(df.shape)\n",
    "    return df\n",
    "\n",
    "\n",
    "# Create a ChromeDriver\n",
    "driver = create_webdriver()\n",
    "\n",
    "# Scrape data from the first 3 pages\n",
    "scraped_data = []\n",
    "for i in range(1, 4):\n",
    "    data_frame = scrape_data_from_table(driver, i)\n",
    "    scraped_data.append(data_frame)\n",
    "\n",
    "driver.quit()\n",
    "\n",
    "# Concatenate data from all pages\n",
    "all_data_df = pd.concat(scraped_data).replace('', np.nan).dropna(axis=1, how='all').dropna(how='all', inplace=True)\n",
    "\n",
    "print(all_data_df)\n",
    "\n",
    "\n",
    "\n"
   ]
  },
  {
   "cell_type": "code",
   "execution_count": null,
   "metadata": {},
   "outputs": [
    {
     "name": "stdout",
     "output_type": "stream",
     "text": [
      "                                  NAME   2v2   3v3   RBG 2v2EXP 3v3EXP RBGEXP  \\\n",
      "RANKING                                                                         \n",
      "None                              None  None  None   NaN    NaN    NaN   None   \n",
      "None                              None  None  None   NaN    NaN    NaN   None   \n",
      "1        Raíku - Ravencrest\\n<Bad RNG>   480  2750   NaN    NaN    NaN   3251   \n",
      "NaN                                NaN  None  None   NaN    NaN    NaN   None   \n",
      "NaN                                NaN  None  None   NaN    NaN    NaN   None   \n",
      "...                                ...   ...   ...   ...    ...    ...    ...   \n",
      "NaN                                NaN  None  None  None   None   None   None   \n",
      "NaN                                NaN  None  None  None   None   None   None   \n",
      "NaN                                NaN  None  None  None   None   None   None   \n",
      "NaN                                NaN  None  None  None   None   None   None   \n",
      "NaN                                NaN  None  None  None   None   None   None   \n",
      "\n",
      "        ARENA_POINTS RBG_POINTS ITEM_LEVEL ACHIEVEMENT_POINTS VIEWS  \n",
      "RANKING                                                              \n",
      "None            None       None       None               None  None  \n",
      "None            None       None       None               None  None  \n",
      "1               3810       2400       4457               1186   444  \n",
      "NaN             None       None       None               None  None  \n",
      "NaN             None       None       None               None  None  \n",
      "...              ...        ...        ...                ...   ...  \n",
      "NaN             None       None       None               None  None  \n",
      "NaN             None       None       None               None  None  \n",
      "NaN             None       None       None               None  None  \n",
      "NaN             None       None       None               None  None  \n",
      "NaN             None       None       None               None  None  \n",
      "\n",
      "[1585 rows x 12 columns]\n"
     ]
    }
   ],
   "source": [
    "# Rename columns\n",
    "renamed_data_df = pd.DataFrame()\n",
    "renamed_data_df['RANKING'] = all_data_df[0]\n",
    "renamed_data_df['NAME'] = all_data_df[1]\n",
    "renamed_data_df['2v2'] = all_data_df[2]\n",
    "renamed_data_df['3v3'] = all_data_df[9]\n",
    "renamed_data_df['RBG'] = all_data_df[16]\n",
    "renamed_data_df['2v2EXP'] = all_data_df[23]\n",
    "renamed_data_df['3v3EXP'] = all_data_df[24]\n",
    "renamed_data_df['RBGEXP'] = all_data_df[25]\n",
    "renamed_data_df['ARENA_POINTS'] = all_data_df[26]\n",
    "renamed_data_df['RBG_POINTS'] = all_data_df[27]\n",
    "renamed_data_df['ITEM_LEVEL'] = all_data_df[28]\n",
    "renamed_data_df['ACHIEVEMENT_POINTS'] = all_data_df[29]\n",
    "renamed_data_df['VIEWS'] = all_data_df[30]\n",
    "\n",
    "# Set the index to be the ranking\n",
    "renamed_data_df.set_index('RANKING', inplace=True)"
   ]
  }
 ],
 "metadata": {
  "kernelspec": {
   "display_name": "Python 3",
   "language": "python",
   "name": "python3"
  },
  "language_info": {
   "codemirror_mode": {
    "name": "ipython",
    "version": 3
   },
   "file_extension": ".py",
   "mimetype": "text/x-python",
   "name": "python",
   "nbconvert_exporter": "python",
   "pygments_lexer": "ipython3",
   "version": "3.10.6"
  },
  "orig_nbformat": 4,
  "vscode": {
   "interpreter": {
    "hash": "03a3280552aab75ac9f719f9062935c06f8a5fdb0276c6adccc57933fa81fcc9"
   }
  }
 },
 "nbformat": 4,
 "nbformat_minor": 2
}
