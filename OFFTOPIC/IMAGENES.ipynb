{
 "cells": [
  {
   "cell_type": "code",
   "execution_count": null,
   "metadata": {},
   "outputs": [],
   "source": [
    "from selenium import webdriver\n",
    "from selenium.webdriver.common.by import By\n",
    "import os\n",
    "import urllib.request\n",
    "\n",
    "# Iniciar el navegador web\n",
    "driver = webdriver.Chrome()\n",
    "\n",
    "# Ir a la página web desde la que quieres descargar las imágenes\n",
    "driver.get('http://www.example.com')  # Cambia 'http://www.example.com' a la URL de tu elección\n",
    "\n",
    "\n",
    "# Encontrar las imágenes en la página\n",
    "images = driver.find_elements(By.TAG_NAME, 'img')\n",
    "\n",
    "# Crear un directorio para guardar las imágenes si aún no existe\n",
    "os.makedirs('images', exist_ok=True)\n",
    "\n",
    "# Descargar las imágenes\n",
    "for i, image in enumerate(images):\n",
    "    try:\n",
    "        src = image.get_attribute('src')\n",
    "        if 'http' in src:  # Para asegurarnos de que estamos obteniendo una URL válida\n",
    "            # Guardar la imagen en el directorio 'images', con el nombre 'image_i.jpg' donde 'i' es el índice de la imagen\n",
    "            urllib.request.urlretrieve(src, os.path.join('images', 'image_' + str(i) + '.jpg'))\n",
    "    except TypeError:\n",
    "        # Pasar por alto si src es None\n",
    "        pass\n",
    "\n",
    "# Cerrar el navegador\n",
    "driver.quit()"
   ]
  }
 ],
 "metadata": {
  "language_info": {
   "name": "python"
  },
  "orig_nbformat": 4
 },
 "nbformat": 4,
 "nbformat_minor": 2
}
