{
 "cells": [
  {
   "cell_type": "code",
   "execution_count": 5,
   "metadata": {},
   "outputs": [
    {
     "name": "stdout",
     "output_type": "stream",
     "text": [
      "1\n",
      "2\n"
     ]
    }
   ],
   "source": [
    "import pandas as pd\n",
    "import numpy as np\n",
    "import time \n",
    "from selenium import webdriver\n",
    "from selenium.webdriver.common.by import By\n",
    "from selenium.webdriver.support.ui import WebDriverWait\n",
    "from selenium.webdriver.support import expected_conditions as EC\n",
    "\n",
    "datas=[]\n",
    "\n",
    "def process_data(df):\n",
    "    df = df.dropna()\n",
    "    df = df.replace('', np.nan)\n",
    "    df = df.dropna(axis=1, how='any')\n",
    "    return df\n",
    "\n",
    "for i in range(1, 3):\n",
    "    driver = webdriver.Chrome()\n",
    "\n",
    "    url = f'https://urbania.pe/buscar/alquiler-de-departamentos-en-pueblo-libre-o-jesus-maria-o-san-miguel-o-lince--lima--lima?bedroomMin=3&page={i}&coveredAreaMin=95&priceMax=3000&currencyId=6'\n",
    "    driver.get(url)\n",
    "    print(i)\n",
    "    time.sleep(5)\n",
    "    job_elements = driver.find_elements(By.CSS_SELECTOR,\"[class='sc-1tt2vbg-3 eFJncP']\")\n",
    "\n",
    "    textos = []\n",
    "\n",
    "    for elemento in job_elements:\n",
    "        textos.append(elemento.text)\n",
    "\n",
    "    df = pd.DataFrame({'Texto': textos})\n",
    "    df = process_data(df)\n",
    "    datas.append(df)\n",
    "\n",
    "    driver.quit()\n",
    "\n",
    "df = pd.concat(datas)\n",
    "df = process_data(df)\n",
    "df = df.reset_index()\n"
   ]
  },
  {
   "cell_type": "code",
   "execution_count": null,
   "metadata": {},
   "outputs": [],
   "source": [
    "e=df"
   ]
  },
  {
   "cell_type": "code",
   "execution_count": 6,
   "metadata": {},
   "outputs": [],
   "source": [
    "e=e.drop('index',axis=1)"
   ]
  },
  {
   "cell_type": "code",
   "execution_count": 7,
   "metadata": {},
   "outputs": [],
   "source": [
    "\n",
    "e = e['Texto'].str.split('\\n', expand=True)"
   ]
  },
  {
   "cell_type": "code",
   "execution_count": 8,
   "metadata": {},
   "outputs": [
    {
     "ename": "TypeError",
     "evalue": "bad operand type for unary ~: 'NoneType'",
     "output_type": "error",
     "traceback": [
      "\u001b[0;31m---------------------------------------------------------------------------\u001b[0m",
      "\u001b[0;31mTypeError\u001b[0m                                 Traceback (most recent call last)",
      "Cell \u001b[0;32mIn[8], line 13\u001b[0m\n\u001b[1;32m      9\u001b[0m e\u001b[39m.\u001b[39mloc[mask] \u001b[39m=\u001b[39m selected_rows\n\u001b[1;32m     12\u001b[0m \u001b[39m# seleccionar las filas donde se encuentra 'S/' en la columna 2\u001b[39;00m\n\u001b[0;32m---> 13\u001b[0m mask \u001b[39m=\u001b[39m \u001b[39m~\u001b[39;49me[\u001b[39m2\u001b[39;49m]\u001b[39m.\u001b[39;49mstr\u001b[39m.\u001b[39;49mstartswith(\u001b[39m'\u001b[39;49m\u001b[39mS/\u001b[39;49m\u001b[39m'\u001b[39;49m)\n\u001b[1;32m     14\u001b[0m selected_rows \u001b[39m=\u001b[39m e\u001b[39m.\u001b[39mloc[mask]\n\u001b[1;32m     16\u001b[0m \u001b[39m# mover todas las columnas a la derecha, a partir de la columna 3, solo para las filas seleccionadas\u001b[39;00m\n",
      "File \u001b[0;32m~/.local/lib/python3.10/site-packages/pandas/core/generic.py:1461\u001b[0m, in \u001b[0;36mNDFrame.__invert__\u001b[0;34m(self)\u001b[0m\n\u001b[1;32m   1457\u001b[0m \u001b[39mif\u001b[39;00m \u001b[39mnot\u001b[39;00m \u001b[39mself\u001b[39m\u001b[39m.\u001b[39msize:\n\u001b[1;32m   1458\u001b[0m     \u001b[39m# inv fails with 0 len\u001b[39;00m\n\u001b[1;32m   1459\u001b[0m     \u001b[39mreturn\u001b[39;00m \u001b[39mself\u001b[39m\u001b[39m.\u001b[39mcopy(deep\u001b[39m=\u001b[39m\u001b[39mFalse\u001b[39;00m)\n\u001b[0;32m-> 1461\u001b[0m new_data \u001b[39m=\u001b[39m \u001b[39mself\u001b[39;49m\u001b[39m.\u001b[39;49m_mgr\u001b[39m.\u001b[39;49mapply(operator\u001b[39m.\u001b[39;49minvert)\n\u001b[1;32m   1462\u001b[0m \u001b[39mreturn\u001b[39;00m \u001b[39mself\u001b[39m\u001b[39m.\u001b[39m_constructor(new_data)\u001b[39m.\u001b[39m__finalize__(\u001b[39mself\u001b[39m, method\u001b[39m=\u001b[39m\u001b[39m\"\u001b[39m\u001b[39m__invert__\u001b[39m\u001b[39m\"\u001b[39m)\n",
      "File \u001b[0;32m~/.local/lib/python3.10/site-packages/pandas/core/internals/managers.py:350\u001b[0m, in \u001b[0;36mBaseBlockManager.apply\u001b[0;34m(self, f, align_keys, **kwargs)\u001b[0m\n\u001b[1;32m    347\u001b[0m             kwargs[k] \u001b[39m=\u001b[39m obj[b\u001b[39m.\u001b[39mmgr_locs\u001b[39m.\u001b[39mindexer]\n\u001b[1;32m    349\u001b[0m \u001b[39mif\u001b[39;00m \u001b[39mcallable\u001b[39m(f):\n\u001b[0;32m--> 350\u001b[0m     applied \u001b[39m=\u001b[39m b\u001b[39m.\u001b[39;49mapply(f, \u001b[39m*\u001b[39;49m\u001b[39m*\u001b[39;49mkwargs)\n\u001b[1;32m    351\u001b[0m \u001b[39melse\u001b[39;00m:\n\u001b[1;32m    352\u001b[0m     applied \u001b[39m=\u001b[39m \u001b[39mgetattr\u001b[39m(b, f)(\u001b[39m*\u001b[39m\u001b[39m*\u001b[39mkwargs)\n",
      "File \u001b[0;32m~/.local/lib/python3.10/site-packages/pandas/core/internals/blocks.py:329\u001b[0m, in \u001b[0;36mBlock.apply\u001b[0;34m(self, func, **kwargs)\u001b[0m\n\u001b[1;32m    323\u001b[0m \u001b[39m@final\u001b[39m\n\u001b[1;32m    324\u001b[0m \u001b[39mdef\u001b[39;00m \u001b[39mapply\u001b[39m(\u001b[39mself\u001b[39m, func, \u001b[39m*\u001b[39m\u001b[39m*\u001b[39mkwargs) \u001b[39m-\u001b[39m\u001b[39m>\u001b[39m \u001b[39mlist\u001b[39m[Block]:\n\u001b[1;32m    325\u001b[0m \u001b[39m    \u001b[39m\u001b[39m\"\"\"\u001b[39;00m\n\u001b[1;32m    326\u001b[0m \u001b[39m    apply the function to my values; return a block if we are not\u001b[39;00m\n\u001b[1;32m    327\u001b[0m \u001b[39m    one\u001b[39;00m\n\u001b[1;32m    328\u001b[0m \u001b[39m    \"\"\"\u001b[39;00m\n\u001b[0;32m--> 329\u001b[0m     result \u001b[39m=\u001b[39m func(\u001b[39mself\u001b[39;49m\u001b[39m.\u001b[39;49mvalues, \u001b[39m*\u001b[39;49m\u001b[39m*\u001b[39;49mkwargs)\n\u001b[1;32m    331\u001b[0m     \u001b[39mreturn\u001b[39;00m \u001b[39mself\u001b[39m\u001b[39m.\u001b[39m_split_op_result(result)\n",
      "\u001b[0;31mTypeError\u001b[0m: bad operand type for unary ~: 'NoneType'"
     ]
    }
   ],
   "source": [
    "\n",
    "# seleccionar las filas donde se encuentra 'S/' en la columna 2\n",
    "mask = ~e[1].str.startswith('(USD')\n",
    "selected_rows = e.loc[mask]\n",
    "\n",
    "# mover todas las columnas a la derecha, a partir de la columna 3, solo para las filas seleccionadas\n",
    "selected_rows.iloc[:, 1:] = selected_rows.iloc[:, 1:].shift(axis=1)\n",
    "\n",
    "# actualizar el dataframe original con las filas seleccionadas que han sido modificadas\n",
    "e.loc[mask] = selected_rows\n",
    "\n"
   ]
  },
  {
   "cell_type": "code",
   "execution_count": null,
   "metadata": {},
   "outputs": [],
   "source": [
    "\n",
    "# seleccionar las filas donde se encuentra 'S/' en la columna 2\n",
    "mask = ~e[2].str.startswith('S/')\n",
    "selected_rows = e.loc[mask]\n",
    "\n",
    "# mover todas las columnas a la derecha, a partir de la columna 3, solo para las filas seleccionadas\n",
    "selected_rows.iloc[:, 2:] = selected_rows.iloc[:, 2:].shift(axis=1)\n",
    "\n",
    "# actualizar el dataframe original con las filas seleccionadas que han sido modificadas\n",
    "e.loc[mask] = selected_rows\n",
    "\n",
    "\n",
    "# seleccionar las filas donde se encuentra 'S/' en la columna 2\n",
    "mask = e[4].str.endswith('m²')\n",
    "selected_rows = e.loc[mask]\n",
    "\n",
    "# mover todas las columnas a la derecha, a partir de la columna 3, solo para las filas seleccionadas\n",
    "selected_rows.iloc[:, 4:] = selected_rows.iloc[:, 4:].shift(axis=1)\n",
    "\n",
    "# actualizar el dataframe original con las filas seleccionadas que han sido modificadas\n",
    "e.loc[mask] = selected_rows\n",
    "\n",
    "\n",
    "\n",
    "# seleccionar las filas donde se encuentra 'S/' en la columna 2\n",
    "mask = ~e[9].str.endswith('estac.')\n",
    "selected_rows = e.loc[mask]\n",
    "\n",
    "# mover todas las columnas a la derecha, a partir de la columna 3, solo para las filas seleccionadas\n",
    "selected_rows.iloc[:, 9:] = selected_rows.iloc[:, 9:].shift(axis=1)\n",
    "\n",
    "# actualizar el dataframe original con las filas seleccionadas que han sido modificadas\n",
    "e.loc[mask] = selected_rows"
   ]
  }
 ],
 "metadata": {
  "kernelspec": {
   "display_name": "Python 3",
   "language": "python",
   "name": "python3"
  },
  "language_info": {
   "codemirror_mode": {
    "name": "ipython",
    "version": 3
   },
   "file_extension": ".py",
   "mimetype": "text/x-python",
   "name": "python",
   "nbconvert_exporter": "python",
   "pygments_lexer": "ipython3",
   "version": "3.10.6"
  },
  "orig_nbformat": 4,
  "vscode": {
   "interpreter": {
    "hash": "03a3280552aab75ac9f719f9062935c06f8a5fdb0276c6adccc57933fa81fcc9"
   }
  }
 },
 "nbformat": 4,
 "nbformat_minor": 2
}
